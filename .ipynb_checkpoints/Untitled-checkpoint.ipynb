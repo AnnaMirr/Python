{
 "cells": [
  {
   "cell_type": "code",
   "execution_count": 38,
   "id": "2023da77",
   "metadata": {},
   "outputs": [],
   "source": [
    "from sympy import Symbol, plot"
   ]
  },
  {
   "cell_type": "code",
   "execution_count": 39,
   "id": "0967b4b9",
   "metadata": {},
   "outputs": [],
   "source": [
    "from sympy import cos"
   ]
  },
  {
   "cell_type": "code",
   "execution_count": 70,
   "id": "3e61d005",
   "metadata": {},
   "outputs": [
    {
     "data": {
      "text/latex": [
       "$\\displaystyle \\left(\\frac{\\sin{\\left(x \\right)}}{2} + \\frac{\\cos{\\left(x \\right)}}{2}\\right)^{2} \\sin{\\left(x \\right)}$"
      ],
      "text/plain": [
       "(sin(x)/2 + cos(x)/2)**2*sin(x)"
      ]
     },
     "execution_count": 70,
     "metadata": {},
     "output_type": "execute_result"
    }
   ],
   "source": [
    "x = Symbol(\"x\")\n",
    "function = (sin(x)/2 + cos(x)/2) ** 2 * sin(x)\n",
    "function"
   ]
  },
  {
   "cell_type": "code",
   "execution_count": 55,
   "id": "3b5de93e",
   "metadata": {},
   "outputs": [],
   "source": [
    "from sympy import solve"
   ]
  },
  {
   "cell_type": "code",
   "execution_count": 58,
   "id": "5ea9b65b",
   "metadata": {},
   "outputs": [],
   "source": [
    "from sympy import solveset"
   ]
  },
  {
   "cell_type": "code",
   "execution_count": 71,
   "id": "1ea0e21a",
   "metadata": {},
   "outputs": [
    {
     "data": {
      "text/latex": [
       "$\\displaystyle \\left\\{2 n \\pi\\; \\middle|\\; n \\in \\mathbb{Z}\\right\\} \\cup \\left\\{2 n \\pi + \\pi\\; \\middle|\\; n \\in \\mathbb{Z}\\right\\} \\cup \\left\\{2 n \\pi + \\frac{3 \\pi}{4}\\; \\middle|\\; n \\in \\mathbb{Z}\\right\\} \\cup \\left\\{2 n \\pi + \\frac{7 \\pi}{4}\\; \\middle|\\; n \\in \\mathbb{Z}\\right\\}$"
      ],
      "text/plain": [
       "Union(ImageSet(Lambda(_n, 2*_n*pi + 3*pi/4), Integers), ImageSet(Lambda(_n, 2*_n*pi + 7*pi/4), Integers), ImageSet(Lambda(_n, 2*_n*pi + pi), Integers), ImageSet(Lambda(_n, 2*_n*pi), Integers))"
      ]
     },
     "execution_count": 71,
     "metadata": {},
     "output_type": "execute_result"
    }
   ],
   "source": [
    "solveset(function, x)"
   ]
  },
  {
   "cell_type": "code",
   "execution_count": 60,
   "id": "b61626f6",
   "metadata": {},
   "outputs": [
    {
     "name": "stdout",
     "output_type": "stream",
     "text": [
      "[0, -pi/4, 3*pi/4, pi]\n",
      "0\n",
      "-0.785398163397448\n",
      "2.35619449019234\n",
      "3.14159265358979\n"
     ]
    }
   ],
   "source": [
    "kor = solve(function, x)\n",
    "print(kor)\n",
    "for i in kor:\n",
    "    print(i.evalf())"
   ]
  },
  {
   "cell_type": "code",
   "execution_count": 67,
   "id": "4bea0ea3",
   "metadata": {},
   "outputs": [
    {
     "data": {
      "text/latex": [
       "$\\displaystyle \\left\\{2 n \\pi\\; \\middle|\\; n \\in \\mathbb{Z}\\right\\} \\cup \\left\\{2 n \\pi + \\pi\\; \\middle|\\; n \\in \\mathbb{Z}\\right\\} \\cup \\left\\{2 n \\pi + \\frac{3 \\pi}{4}\\; \\middle|\\; n \\in \\mathbb{Z}\\right\\} \\cup \\left\\{2 n \\pi + \\frac{7 \\pi}{4}\\; \\middle|\\; n \\in \\mathbb{Z}\\right\\}$"
      ],
      "text/plain": [
       "Union(ImageSet(Lambda(_n, 2*_n*pi + 3*pi/4), Integers), ImageSet(Lambda(_n, 2*_n*pi + 7*pi/4), Integers), ImageSet(Lambda(_n, 2*_n*pi + pi), Integers), ImageSet(Lambda(_n, 2*_n*pi), Integers))"
      ]
     },
     "execution_count": 67,
     "metadata": {},
     "output_type": "execute_result"
    }
   ],
   "source": [
    "solveset(function, x)"
   ]
  },
  {
   "cell_type": "code",
   "execution_count": 64,
   "id": "39d8101a",
   "metadata": {},
   "outputs": [],
   "source": [
    "from sympy import diff"
   ]
  },
  {
   "cell_type": "code",
   "execution_count": 65,
   "id": "dcfed546",
   "metadata": {},
   "outputs": [
    {
     "data": {
      "text/latex": [
       "$\\displaystyle \\left(- \\sin{\\left(x \\right)} + \\cos{\\left(x \\right)}\\right) \\left(\\frac{\\sin{\\left(x \\right)}}{2} + \\frac{\\cos{\\left(x \\right)}}{2}\\right) \\sin{\\left(x \\right)} + \\left(\\frac{\\sin{\\left(x \\right)}}{2} + \\frac{\\cos{\\left(x \\right)}}{2}\\right)^{2} \\cos{\\left(x \\right)}$"
      ],
      "text/plain": [
       "(-sin(x) + cos(x))*(sin(x)/2 + cos(x)/2)*sin(x) + (sin(x)/2 + cos(x)/2)**2*cos(x)"
      ]
     },
     "execution_count": 65,
     "metadata": {},
     "output_type": "execute_result"
    }
   ],
   "source": [
    "pro = diff(function)\n",
    "pro"
   ]
  },
  {
   "cell_type": "code",
   "execution_count": 68,
   "id": "aa7bf0d0",
   "metadata": {},
   "outputs": [
    {
     "name": "stdout",
     "output_type": "stream",
     "text": [
      "[-pi/4, 3*pi/4, -2*atan(-3/2 + sqrt(6)*sqrt(5 - sqrt(17))/2 + sqrt(17)/2), 2*atan(3/2 + sqrt(17)/2 + sqrt(6)*sqrt(sqrt(17) + 5)/2), 2*atan(-sqrt(17)/2 + sqrt(6)*sqrt(5 - sqrt(17))/2 + 3/2), 2*atan(-sqrt(6)*sqrt(sqrt(17) + 5)/2 + 3/2 + sqrt(17)/2)]\n",
      "-0.785398163397448\n",
      "2.35619449019234\n",
      "-2.08246597090872\n",
      "2.86786413430617\n",
      "1.05912668268107\n",
      "-0.273728519283620\n"
     ]
    }
   ],
   "source": [
    "dkor = solve(pro, x)\n",
    "print(dkor)\n",
    "for i in dkor:\n",
    "    print(i.evalf())"
   ]
  },
  {
   "cell_type": "code",
   "execution_count": 66,
   "id": "cdfab809",
   "metadata": {},
   "outputs": [
    {
     "data": {
      "text/latex": [
       "$\\displaystyle \\left\\{x\\; \\middle|\\; x \\in \\mathbb{C} \\wedge \\left(- \\sin{\\left(x \\right)} + \\cos{\\left(x \\right)}\\right) \\left(\\frac{\\sin{\\left(x \\right)}}{2} + \\frac{\\cos{\\left(x \\right)}}{2}\\right) \\sin{\\left(x \\right)} + \\left(\\frac{\\sin{\\left(x \\right)}}{2} + \\frac{\\cos{\\left(x \\right)}}{2}\\right)^{2} \\cos{\\left(x \\right)} > 0 \\right\\}$"
      ],
      "text/plain": [
       "ConditionSet(x, (-sin(x) + cos(x))*(sin(x)/2 + cos(x)/2)*sin(x) + (sin(x)/2 + cos(x)/2)**2*cos(x) > 0, Complexes)"
      ]
     },
     "execution_count": 66,
     "metadata": {},
     "output_type": "execute_result"
    }
   ],
   "source": [
    "solveset(pro > 0, x)"
   ]
  },
  {
   "cell_type": "code",
   "execution_count": 138,
   "id": "c020ea1d",
   "metadata": {},
   "outputs": [],
   "source": [
    "from sympy import pprint"
   ]
  },
  {
   "cell_type": "code",
   "execution_count": 140,
   "id": "3cf8f343",
   "metadata": {},
   "outputs": [
    {
     "name": "stdout",
     "output_type": "stream",
     "text": [
      "Pretty printing has been turned ON\n"
     ]
    }
   ],
   "source": [
    "%pprint"
   ]
  },
  {
   "cell_type": "code",
   "execution_count": 142,
   "id": "9b762f1f",
   "metadata": {},
   "outputs": [
    {
     "name": "stdout",
     "output_type": "stream",
     "text": [
      "⎛                                                               2             \n",
      "⎜                   ⎛sin(x)   cos(x)⎞          ⎛sin(x)   cos(x)⎞              \n",
      "⎜(-sin(x) + cos(x))⋅⎜────── + ──────⎟⋅sin(x) + ⎜────── + ──────⎟ ⋅cos(x) > 0, \n",
      "⎝                   ⎝  2        2   ⎠          ⎝  2        2   ⎠              \n",
      "\n",
      "      ⎛       _________          ⎞⎞\n",
      "      ⎜  √6⋅╲╱ √17 + 5    3   √17⎟⎟\n",
      "2⋅atan⎜- ────────────── + ─ + ───⎟⎟\n",
      "      ⎝        2          2    2 ⎠⎠\n"
     ]
    }
   ],
   "source": [
    "pprint((pro > 0, x), use_unicode=True)"
   ]
  },
  {
   "cell_type": "code",
   "execution_count": 73,
   "id": "9cd9593f",
   "metadata": {},
   "outputs": [],
   "source": [
    "from sympy import pi"
   ]
  },
  {
   "cell_type": "code",
   "execution_count": 75,
   "id": "9ee7e854",
   "metadata": {},
   "outputs": [
    {
     "data": {
      "image/png": "[encoded data removed]",
      "text/plain": [
       "<Figure size 640x480 with 1 Axes>"
      ]
     },
     "metadata": {},
     "output_type": "display_data"
    }
   ],
   "source": [
    "graf = plot(function,pro,(x,-pi/4,2*pi), title = \"График функции и ее производной\")"
   ]
  },
  {
   "cell_type": "code",
   "execution_count": 136,
   "id": "db2c81ab",
   "metadata": {},
   "outputs": [
    {
     "name": "stdout",
     "output_type": "stream",
     "text": [
      "x = -pi/4, y = -30 - 5*pi/2 + 5*pi**2/16\n",
      "x = -0.785398163397448, y = -34.7697302586341\n",
      "\n",
      "x = 3*pi/4, y = -30 + 15*pi/2 + 45*pi**2/16\n",
      "x = 2.35619449019234, y = 21.3202072799873\n",
      "\n",
      "x = -2*atan(-3/2 + sqrt(6)*sqrt(5 - sqrt(17))/2 + sqrt(17)/2), y = -30 - 20*atan(-3/2 + sqrt(6)*sqrt(5 - sqrt(17))/2 + sqrt(17)/2) + 20*atan(-3/2 + sqrt(6)*sqrt(5 - sqrt(17))/2 + sqrt(17)/2)**2\n",
      "x = -2.08246597090872, y = -29.1413371091232\n",
      "\n",
      "x = 2*atan(3/2 + sqrt(17)/2 + sqrt(6)*sqrt(sqrt(17) + 5)/2), y = -30 + 20*atan(3/2 + sqrt(17)/2 + sqrt(6)*sqrt(sqrt(17) + 5)/2) + 20*atan(3/2 + sqrt(17)/2 + sqrt(6)*sqrt(sqrt(17) + 5)/2)**2\n",
      "x = 2.86786413430617, y = 39.8018648072602\n",
      "\n",
      "x = 2*atan(-sqrt(17)/2 + sqrt(6)*sqrt(5 - sqrt(17))/2 + 3/2), y = -30 + 20*atan(-sqrt(17)/2 + sqrt(6)*sqrt(5 - sqrt(17))/2 + 3/2)**2 + 20*atan(-sqrt(17)/2 + sqrt(6)*sqrt(5 - sqrt(17))/2 + 3/2)\n",
      "x = 1.05912668268107, y = -13.7999865233543\n",
      "\n",
      "x = 2*atan(-sqrt(6)*sqrt(sqrt(17) + 5)/2 + 3/2 + sqrt(17)/2), y = -30 + 20*atan(-sqrt(6)*sqrt(sqrt(17) + 5)/2 + 3/2 + sqrt(17)/2) + 20*atan(-sqrt(6)*sqrt(sqrt(17) + 5)/2 + 3/2 + sqrt(17)/2)**2\n",
      "x = -0.273728519283620, y = -32.3626486814902\n",
      "\n"
     ]
    }
   ],
   "source": [
    "for x in dkor:\n",
    "    y = 5*x**2+10*x-30\n",
    "    print(f'x = {x}, y = {y}')\n",
    "    print(f'x = {x.evalf()}, y = {y.evalf()}')\n",
    "    print()"
   ]
  },
  {
   "cell_type": "code",
   "execution_count": 133,
   "id": "704e53ae",
   "metadata": {},
   "outputs": [
    {
     "name": "stdout",
     "output_type": "stream",
     "text": [
      "                    3⋅π\n",
      "x > 0 ∧ x < π ∧ x ≠ ───\n",
      "                     4 \n"
     ]
    }
   ],
   "source": [
    "pprint(solve(function > 0, x), use_unicode=True)"
   ]
  },
  {
   "cell_type": "code",
   "execution_count": 137,
   "id": "06710ab8",
   "metadata": {},
   "outputs": [
    {
     "name": "stdout",
     "output_type": "stream",
     "text": [
      "                      7⋅π\n",
      "x > π ∧ x < 2⋅π ∧ x ≠ ───\n",
      "                       4 \n"
     ]
    }
   ],
   "source": [
    "pprint(solve(function < 0, x), use_unicode=True)"
   ]
  },
  {
   "cell_type": "code",
   "execution_count": null,
   "id": "a286931e",
   "metadata": {},
   "outputs": [],
   "source": []
  },
  {
   "cell_type": "code",
   "execution_count": null,
   "id": "b9501fcb",
   "metadata": {},
   "outputs": [],
   "source": []
  },
  {
   "cell_type": "code",
   "execution_count": null,
   "id": "299dc4c3",
   "metadata": {},
   "outputs": [],
   "source": [
    "\n",
    "function = (sin(x)/2 + cos(x)/2) ** 2 * sin(x)\n",
    "function"
   ]
  }
 ],
 "metadata": {
  "kernelspec": {
   "display_name": "Python 3 (ipykernel)",
   "language": "python",
   "name": "python3"
  },
  "language_info": {
   "codemirror_mode": {
    "name": "ipython",
    "version": 3
   },
   "file_extension": ".py",
   "mimetype": "text/x-python",
   "name": "python",
   "nbconvert_exporter": "python",
   "pygments_lexer": "ipython3",
   "version": "3.9.13"
  }
 },
 "nbformat": 4,
 "nbformat_minor": 5
}
